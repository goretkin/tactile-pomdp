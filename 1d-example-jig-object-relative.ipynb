{
 "cells": [
  {
   "cell_type": "code",
   "execution_count": 1,
   "metadata": {
    "collapsed": true
   },
   "outputs": [],
   "source": [
    "import numpy as np\n",
    "import matplotlib.pyplot as plt\n",
    "%matplotlib inline\n",
    "from collections import namedtuple"
   ]
  },
  {
   "cell_type": "code",
   "execution_count": 2,
   "metadata": {
    "collapsed": true
   },
   "outputs": [],
   "source": [
    "#the jig is a half-line. It extends infinitely in one direction\n",
    "#the state includes the displacement (signed distance) from the object to the jig\n",
    "\n",
    "#   |---> (positive displacement)\n",
    "#   o   jjjjjj...\n",
    "# -------->  (coordinate frame attached to object)\n",
    "\n",
    "# in 1D, you can't rotate the object, so the object frame positive x axis always points to the left\n",
    "# whether you're plotting in world frame or object frame\n",
    "#       <---| (negative displacement)\n",
    "# ..jjjj   o\n",
    "#  --------> (coordinate frame attached to object)\n",
    "\n",
    "# HOWEVER, if we attach a coordinate frame to the jig, such 0 is the boundary, \n",
    "# and the negative direction is occupied by jig, then in this coordinate frame, \n",
    "# the displacment to the object is always positive\n",
    "# BUT now we need to encode whether the object frame points left or right,\n",
    "# since that's the frame you can specify the actions in.\n",
    "# (I think this is actually less obvious in 1D than in higher dimensions)\n",
    "\n",
    "# To make the case analogous with the x, y, \\theta case consider the following state space"
   ]
  },
  {
   "cell_type": "markdown",
   "metadata": {},
   "source": [
    "$\\left( \\mathbf{R}_{+} \\times \\mathbf{\\theta} \\right) \\cup \\mathbf{C}$"
   ]
  },
  {
   "cell_type": "markdown",
   "metadata": {
    "collapsed": false
   },
   "source": [
    "$\\theta$ in the 1D case takes on one of two values. $\\mathbf{C}$ is binary-valued and says whether you're in contact or not. In this 1D case, there is only one contact manifold, and it's zero dimensional.\n",
    "\n",
    "One departure from the 2D case is that you can't really transition from one $\\theta$ value to the other. However, it's still necessary to include it in the state, because in a ($\\theta=0^\\circ$) world, taking a step in the positive direction increases the displacement from the jig. In a ($\\theta=180^\\circ$) world, taking a a step in the positive direction *decreases* the displacement.\n",
    "\n",
    "For comparison, the plannar domain we're considering has the following state space:\n",
    "\n",
    "$\\left( \\mathbf{R}_{+} \\times \\mathbf{R}_{+} \\times \\mathbf{\\theta} \\right) \n",
    "\\cup \\left( \\mathbf{R}_{+} \\times \\mathbf{\\theta} \\right)\n",
    "\\cup \\left( \\mathbf{R}_{+} \\times \\mathbf{\\theta} \\right)\n",
    "\\cup \\left( \\mathbf{\\theta} \\right)\n",
    "\\cup \\mathbf{C}$\n",
    "\n",
    "(I'm being informal in writing $\\theta$. It really is $SO(2)$)\n",
    "\n",
    "The space correspond, in order, to:\n",
    "- the no-contact manifold\n",
    "- contact with one arm of the jig\n",
    "- contact with the other arm of the jig\n",
    "- contact with both arms of the jig\n",
    "- and the questionably the double-edge contact with the square object is in the corner of the jig\n",
    "\n",
    "The non-negativity on the real coordinates are applicable when you take the state to be the pose of the object expressed in the jig frame. If you take the pose of the jig expressed in the object frame, then you can't say the coordinates are non-negative"
   ]
  },
  {
   "cell_type": "markdown",
   "metadata": {},
   "source": [
    "Actually, let us use this state space\n",
    "$\\left( \\mathbf{R}_{+} \\cup \\mathbf{C} \\right)\\times \\mathbf{\\theta}$\n",
    "\n",
    "When we are up against the contact, which of the following is true?\n",
    "- moving in the positive direction will further push into the contact\n",
    "- moving in the positive direction will break contact\n",
    "\n",
    "$\\theta$ tells us."
   ]
  },
  {
   "cell_type": "code",
   "execution_count": 3,
   "metadata": {
    "collapsed": false
   },
   "outputs": [],
   "source": [
    "# I am crazy to do this. But this prevents rogue types from being generated (like DirectionStateFactor(3.2))\n",
    "# And also allows these to be used as dict keys (they are immutable)\n",
    "\n",
    "#What it doesn't let me do is make a type hierarchy that well.\n",
    "\n",
    "DirectionStateFactorBase = namedtuple(\"DirectionStateFactor\", [\"d\"])\n",
    "class DirectionStateFactor(DirectionStateFactorBase):\n",
    "    def __new__(cls, d):    \n",
    "        if d == 1:\n",
    "            _d = 1\n",
    "        elif d == -1:\n",
    "            _d = -1\n",
    "        else:\n",
    "            raise ValueError(\"direction: %s\"%d)\n",
    "\n",
    "        self = super(DirectionStateFactor, cls).__new__(cls, d)\n",
    "        return self\n",
    "\n",
    "    def __repr__(self):\n",
    "        return \"Direction: %s\"%(self.d)\n",
    "\n",
    "DisplacementStateFactor = namedtuple(\"DisplacementStateFactor\", []) #\"abstract\" type\n",
    "\n",
    "MetricStateFactorBase = namedtuple(\"MetricStateFactor\", [\"x\"])\n",
    "class MetricStateFactor(MetricStateFactorBase):\n",
    "    def __new__(cls, x):\n",
    "        assert(x%1 == 0) #it's an index into some discretization\n",
    "        self = super(MetricStateFactor, cls).__new__(cls, x)\n",
    "        return self\n",
    "\n",
    "    def __repr__(self):\n",
    "        return \"Metric: %s\"%(self.x)\n",
    "\n",
    "class VoidStateFactor(DisplacementStateFactor):\n",
    "    def __new__(cls):\n",
    "        self = super(VoidStateFactor, cls).__new__(cls)\n",
    "        return self\n",
    "\n",
    "    def __eq__(self, other):\n",
    "        return self.__class__ == other.__class__\n",
    "    \n",
    "    def __repr__(self):\n",
    "        return \"Void\"\n",
    "\n",
    "class ContactStateFactor(DisplacementStateFactor):\n",
    "    def __new__(cls):\n",
    "        self = super(ContactStateFactor, cls).__new__(cls)\n",
    "        return self\n",
    "\n",
    "    def __eq__(self, other):\n",
    "        return self.__class__ == other.__class__\n",
    "    \n",
    "    def __repr__(self):\n",
    "        return \"Contact\"\n",
    "\n",
    "#I don't want them to inherit the equality method. and I was the hashing to be unique.\n",
    "assert( not (ContactStateFactor() == VoidStateFactor() ) )\n",
    "\n",
    "StateBase = namedtuple(\"State\", [\"direction\", \"displacement\"])\n",
    "    \n",
    "class State(StateBase):\n",
    "    def __new__(cls, direction_factor, displacement_factor):\n",
    "        assert(isinstance(direction_factor, DirectionStateFactor))\n",
    "        assert(isinstance(displacement_factor, MetricStateFactor) or #this line would have been avoided if I figured out subclassing\n",
    "              isinstance(displacement_factor, DisplacementStateFactor))\n",
    "        self = super(State, cls).__new__(cls, direction_factor, displacement_factor)\n",
    "        return self\n",
    "\n",
    "    def __repr__(self):\n",
    "        return \"State: \" + (\"+\" if self.direction.d==1 else \"-\") + self.displacement.__repr__()\n",
    "\n",
    "class StateSpace(object):\n",
    "    def __init__(self, extent=5.0, n_resolution=51):\n",
    "        self.extent = extent\n",
    "        self.n_resolution = n_resolution\n",
    "        self.discretization_free = np.linspace(0, self.extent, self.n_resolution)\n",
    "        self.n_directions = 2\n",
    "        \n",
    "        self.others_displacement = [ContactStateFactor, VoidStateFactor]\n",
    "        self.n_states = (len(self.discretization_free) + len(self.others_displacement))*self.n_directions\n",
    "            \n",
    "    def to_continuous(self, state, frame=\"jig\"):\n",
    "        assert isinstance(state.displacement, MetricStateFactor)\n",
    "        if frame==\"jig\":\n",
    "            return (self.discretization_free[state.displacement.x], state.direction.d)\n",
    "        elif frame==\"object\":\n",
    "            print(\"confirm this, tho\")\n",
    "            return (-state.direction.d * self.discretization_free[state.displacement.x], -state.direction.d)\n",
    "\n",
    "    def nearest(self, xd, frame=\"jig\"):\n",
    "        x, d = xd # displacement and direction\n",
    "        if frame != \"jig\":\n",
    "            raise NotImplementedError()\n",
    "\n",
    "        if x >= self.extent:\n",
    "            return State(DirectionStateFactor(d), VoidStateFactor())\n",
    "        elif x<0:\n",
    "            return State(DirectionStateFactor(d), ContactStateFactor())\n",
    "        else:\n",
    "            i = np.searchsorted(self.discretization_free, x)\n",
    "            if i == 0:\n",
    "                return State(DirectionStateFactor(d), MetricStateFactor(0))\n",
    "            else:\n",
    "                if abs(self.discretization_free[i-1]-x) < abs(self.discretization_free[i]-x):\n",
    "                    return State(DirectionStateFactor(d), MetricStateFactor(i-1))\n",
    "                else:\n",
    "                    return State(DirectionStateFactor(d), MetricStateFactor(i))\n",
    "\n",
    "    def interpolate(self, xd, frame=\"jig\"):\n",
    "        x, d = xd # displacement and direction\n",
    "        if frame != \"jig\":\n",
    "            raise NotImplementedError()\n",
    "\n",
    "        # return affine combination of states\n",
    "        # interpolating x when x is outside the extent puts all of the mass in the void.\n",
    "        if x >= self.extent:\n",
    "            return [(1.0, State(DirectionStateFactor(d), VoidStateFactor()) )]\n",
    "        elif x<=0:\n",
    "            #raise NotImplementedError() #This might actually just need to be an error\n",
    "            return [(1.0, State(DirectionStateFactor(d), ContactStateFactor()) )]\n",
    "        else:\n",
    "            i = np.searchsorted(self.discretization_free, x)\n",
    "            if i == 0:\n",
    "                raise AssertionError(\"previous checks should have caught: %s\"%(x))\n",
    "            else:\n",
    "                a = x - self.discretization_free[i-1]\n",
    "                b = self.discretization_free[i] - x\n",
    "                if a<0 or b<0:\n",
    "                    raise AssertionError(\"negative distance: %s\"%((a,b)))\n",
    "                \n",
    "                return [ (b/(a+b), State(DirectionStateFactor(d), MetricStateFactor(i-1))),\n",
    "                         (a/(a+b), State(DirectionStateFactor(d), MetricStateFactor(i))) ]\n",
    "\n",
    "# once this runs, you have to recreate it. make it behave like an iterator again one day\n",
    "def state_generator(state_space):\n",
    "        for d in [DirectionStateFactor(-1), DirectionStateFactor(+1)]:\n",
    "            yield State(d, ContactStateFactor())\n",
    "            yield State(d, VoidStateFactor())\n",
    "            for i in range(len(state_space.discretization_free)):\n",
    "                yield State(d, MetricStateFactor(i))\n",
    "        "
   ]
  },
  {
   "cell_type": "code",
   "execution_count": null,
   "metadata": {
    "collapsed": false
   },
   "outputs": [],
   "source": []
  },
  {
   "cell_type": "code",
   "execution_count": 4,
   "metadata": {
    "collapsed": false
   },
   "outputs": [
    {
     "data": {
      "text/plain": [
       "(2.1000000000000001, 1)"
      ]
     },
     "execution_count": 4,
     "metadata": {},
     "output_type": "execute_result"
    }
   ],
   "source": [
    "state_space = StateSpace()\n",
    "state_space.to_continuous(state_space.nearest((2.14, +1)))"
   ]
  },
  {
   "cell_type": "code",
   "execution_count": 5,
   "metadata": {
    "collapsed": false
   },
   "outputs": [
    {
     "data": {
      "text/plain": [
       "State: +Metric: 1"
      ]
     },
     "execution_count": 5,
     "metadata": {},
     "output_type": "execute_result"
    }
   ],
   "source": [
    "state_space.nearest((0.1, +1))"
   ]
  },
  {
   "cell_type": "code",
   "execution_count": 6,
   "metadata": {
    "collapsed": false
   },
   "outputs": [
    {
     "data": {
      "text/plain": [
       "[(0.50000000000000222, State: -Metric: 26),\n",
       " (0.49999999999999778, State: -Metric: 27)]"
      ]
     },
     "execution_count": 6,
     "metadata": {},
     "output_type": "execute_result"
    }
   ],
   "source": [
    "state_space.interpolate((2.65, -1))"
   ]
  },
  {
   "cell_type": "code",
   "execution_count": 7,
   "metadata": {
    "collapsed": false
   },
   "outputs": [
    {
     "data": {
      "text/plain": [
       "[State: -Contact,\n",
       " State: -Void,\n",
       " State: -Metric: 0,\n",
       " State: -Metric: 1,\n",
       " State: -Metric: 2,\n",
       " State: -Metric: 3]"
      ]
     },
     "execution_count": 7,
     "metadata": {},
     "output_type": "execute_result"
    }
   ],
   "source": [
    "list(state_generator(state_space))[0:6]"
   ]
  },
  {
   "cell_type": "code",
   "execution_count": 8,
   "metadata": {
    "collapsed": false
   },
   "outputs": [],
   "source": [
    "class Belief(object):\n",
    "    def __init__(self, state_space=state_space, delta=None):\n",
    "        self.state_space = state_space\n",
    "        \n",
    "        self.p = {}\n",
    "        self.directions = [DirectionStateFactor(-1), DirectionStateFactor(1)]\n",
    "        self.displacements = [ContactStateFactor(), VoidStateFactor(), 'free_metric']\n",
    "\n",
    "        for d in self.directions:\n",
    "            self.p[d] = {ContactStateFactor():0.0,\n",
    "                        VoidStateFactor():0.0,\n",
    "                        'free_metric':np.zeros_like(self.state_space.discretization_free)}\n",
    "        \n",
    "        \n",
    "        if delta is not None:\n",
    "            if isinstance(delta, State):\n",
    "                if isinstance(delta.displacement, MetricStateFactor):\n",
    "                    self.p[delta.direction]['free_metric'][delta.displacement.x] = 1.0\n",
    "                elif isinstance(delta.displacement, DisplacementStateFactor):\n",
    "                    self.p[delta.direction][delta.displacement] = 1.0\n",
    "                else:\n",
    "                    raise ValueError(delta)\n",
    "            else:\n",
    "                raise ValueError(delta)\n",
    "    \n",
    "    def prob(self, state):\n",
    "        if isinstance(state, State):\n",
    "            if isinstance(state.displacement, MetricStateFactor):\n",
    "                return self.p[state.direction]['free_metric'][state.displacement.x]\n",
    "            elif isinstance(state.displacement, DisplacementStateFactor):\n",
    "                return self.p[state.direction][state.displacement]\n",
    "            else:\n",
    "                raise ValueError(state)\n",
    "        else:\n",
    "            raise ValueError(state)\n",
    "    \n",
    "    @staticmethod\n",
    "    def blend(affine_combo):\n",
    "        coeffs = np.array([a for (a, b) in affine_combo])\n",
    "        \n",
    "        if not np.isclose(np.sum(coeffs), 1.0) or not np.all(coeffs>=0.0):\n",
    "            raise ValueError(\"invalid combination: %s\"%(coeffs))\n",
    "        \n",
    "        #assume each belief is normalized\n",
    "        blended = Belief()\n",
    "\n",
    "        for (a,b) in affine_combo:\n",
    "            assert(np.isclose(b.sum(),1.0))\n",
    "            for d in blended.directions:\n",
    "                for m in blended.displacements:\n",
    "                    blended.p[d][m] += a*b.p[d][m]\n",
    "\n",
    "        if not np.isclose(blended.sum(), 1.0):\n",
    "            raise AssertionError(\"sum should have come out to 1.0: %s\"%(blended.sum()))\n",
    "        \n",
    "        return blended\n",
    "            \n",
    "    def something(self):\n",
    "        for d in self.directions:\n",
    "            self.p[d][ContactStateFactor()] = np.random.rand()\n",
    "            self.p[d][VoidStateFactor()] = np.random.rand()\n",
    "            self.p[d]['free_metric'] = 0.1 * np.random.rand(len(self.state_space.discretization_free))\n",
    "    \n",
    "        self.normalize()\n",
    "\n",
    "    def sum(self):\n",
    "        s = 0.0\n",
    "        for d in self.directions:\n",
    "            s += self.p[d][ContactStateFactor()]\n",
    "            s += self.p[d][VoidStateFactor()]\n",
    "            s += np.sum(self.p[d]['free_metric'])\n",
    "        return s\n",
    "       \n",
    "    def normalize(self):\n",
    "        eta = 1.0/(self.sum())\n",
    "\n",
    "        for d in self.directions:\n",
    "            self.p[d][ContactStateFactor()] *= eta\n",
    "            self.p[d][VoidStateFactor()] *= eta\n",
    "            self.p[d]['free_metric'] *= eta\n",
    "\n",
    "\n",
    "    def plot(self, ax, frame=\"object\", p_metric_kwargs=dict(color='grey',linestyle=\"\")):\n",
    "        belief = self\n",
    "    \n",
    "        artists=[]\n",
    "\n",
    "        def plot_single_stem(ax, x, y, \n",
    "                             marker_kwargs=dict(markersize=5.0, alpha=1.0, color='darkblue'), \n",
    "                             stemline_kwargs=dict(linewidth=4.0, alpha=0.5, color='dimgrey')):\n",
    "            a = [] #store artists\n",
    "            a.extend(\n",
    "                ax.plot([x, x], [0.0, y], **stemline_kwargs))\n",
    "            \n",
    "       \n",
    "            a.extend(\n",
    "                ax.plot([x], [y], marker='s', **marker_kwargs))\n",
    "            return a\n",
    "        \n",
    "        for d in self.directions:\n",
    "            _d = d.d\n",
    "            artists.extend(\n",
    "                plot_single_stem(ax, _d*0.05, \n",
    "                                 belief.p[d][ContactStateFactor()]) )\n",
    "            artists.extend(\n",
    "                plot_single_stem(ax, _d*belief.state_space.extent, \n",
    "                                 belief.p[d][VoidStateFactor()]) )\n",
    "            \n",
    "            artists.extend(\n",
    "                ax.plot(_d*belief.state_space.discretization_free, \n",
    "                            belief.p[d]['free_metric'], \n",
    "                            marker=\".\", **p_metric_kwargs) )\n",
    "        return artists\n",
    "\n",
    "    def metric_mean(self):\n",
    "        # The graphical notion of a mean only really makes sense in the object frame\n",
    "        \n",
    "        s = self.p[DirectionStateFactor(1)]['free_metric'].sum() + self.p[DirectionStateFactor(-1)]['free_metric'].sum()\n",
    "        if s == 0:\n",
    "            raise ValueError(\"Metric manifold has zero probability\")\n",
    "        if s>1:\n",
    "            raise ValueError(\"Metric manifold had %s>1 probability\"%(s))\n",
    "        return ( np.dot(self.p[DirectionStateFactor(-1)]['free_metric']/s, -self.state_space.discretization_free)+\n",
    "                 np.dot(self.p[DirectionStateFactor(+1)]['free_metric']/s, self.state_space.discretization_free) )\n",
    "\n",
    "    \n",
    "    def metric_variance(self):\n",
    "        m = self.metric_mean()\n",
    "        s = self.p[DirectionStateFactor(1)]['free_metric'].sum() + self.p[DirectionStateFactor(-1)]['free_metric'].sum()\n",
    "        return ( np.dot(self.p[DirectionStateFactor(-1)]['free_metric']/s, (-self.state_space.discretization_free-m)**2)+\n",
    "                 np.dot(self.p[DirectionStateFactor(+1)]['free_metric']/s, (self.state_space.discretization_free-m)**2) )"
   ]
  },
  {
   "cell_type": "code",
   "execution_count": 9,
   "metadata": {
    "collapsed": false
   },
   "outputs": [
    {
     "data": {
      "image/png": "[encoded data removed]",
      "text/plain": [
       "<matplotlib.figure.Figure at 0x108a20110>"
      ]
     },
     "metadata": {},
     "output_type": "display_data"
    }
   ],
   "source": [
    "def setup_belief_plot(ax=None):\n",
    "    if ax is None:\n",
    "        ax = plt.gca()\n",
    "    \n",
    "    ax.axhline(0.0)\n",
    "    ax.set_ylabel(r\"$p$\")\n",
    "    return ax\n",
    "\n",
    "ax = setup_belief_plot()\n",
    "b = Belief()\n",
    "b.something()\n",
    "b.plot(ax);"
   ]
  },
  {
   "cell_type": "code",
   "execution_count": 10,
   "metadata": {
    "collapsed": false
   },
   "outputs": [
    {
     "data": {
      "text/plain": [
       "0.072730361151567058"
      ]
     },
     "execution_count": 10,
     "metadata": {},
     "output_type": "execute_result"
    }
   ],
   "source": [
    "b.metric_mean()"
   ]
  },
  {
   "cell_type": "code",
   "execution_count": 11,
   "metadata": {
    "collapsed": true
   },
   "outputs": [],
   "source": [
    "def ideally_identity(xd):\n",
    "    # interpolate a continuous point onto the metric part\n",
    "    # convert to a distribution over the metric states (a Belief)\n",
    "    # take the mean of the belief\n",
    "    affine_combo = state_space.interpolate(xd)\n",
    "    affine_combo = [(a,Belief(delta=b)) for (a,b) in affine_combo]\n",
    "    return Belief.blend(affine_combo).metric_mean()"
   ]
  },
  {
   "cell_type": "code",
   "execution_count": 12,
   "metadata": {
    "collapsed": false
   },
   "outputs": [
    {
     "data": {
      "image/png": "[encoded data removed]",
      "text/plain": [
       "<matplotlib.figure.Figure at 0x1087c84d0>"
      ]
     },
     "metadata": {},
     "output_type": "display_data"
    }
   ],
   "source": [
    "#a sort of unit test. the line should be straight with slope=1\n",
    "x = np.linspace(-4,4,10000)\n",
    "y = map(ideally_identity, [(abs(d), 1 if d>0 else -1) for d in x])\n",
    "plt.plot(x,y)\n",
    "plt.gca().set_aspect(1.0)"
   ]
  },
  {
   "cell_type": "code",
   "execution_count": 13,
   "metadata": {
    "collapsed": false
   },
   "outputs": [],
   "source": [
    "#another sort of unit test\n",
    "etas = [Belief(delta=s).sum() for s in state_generator(state_space)]\n",
    "\n",
    "if not np.all([np.isclose(eta, 1.0) for eta in etas]):\n",
    "    print(\"Test Fail\")\n",
    "\n",
    "    for s in state_generator(state_space):\n",
    "        if not np.isclose(Belief(delta=s).sum(), 1.0):\n",
    "            print(s)"
   ]
  },
  {
   "cell_type": "code",
   "execution_count": 14,
   "metadata": {
    "collapsed": false
   },
   "outputs": [
    {
     "name": "stdout",
     "output_type": "stream",
     "text": [
      "(State: +Contact, 1.0)\n"
     ]
    }
   ],
   "source": [
    "b = Belief(delta=State( DirectionStateFactor(1), ContactStateFactor()))\n",
    "\n",
    "for s in state_generator(state_space):\n",
    "    if b.prob(s) != 0:\n",
    "        print(s, b.prob(s))"
   ]
  },
  {
   "cell_type": "code",
   "execution_count": 15,
   "metadata": {
    "collapsed": false
   },
   "outputs": [],
   "source": [
    "b = Belief()\n",
    "b.p[DirectionStateFactor(1)][ContactStateFactor()] = 1"
   ]
  },
  {
   "cell_type": "code",
   "execution_count": 16,
   "metadata": {
    "collapsed": false
   },
   "outputs": [
    {
     "name": "stdout",
     "output_type": "stream",
     "text": [
      "(State: +Contact, 1)\n"
     ]
    }
   ],
   "source": [
    "for s in state_generator(state_space):\n",
    "    if b.prob(s) != 0:\n",
    "        print(s, b.prob(s))"
   ]
  },
  {
   "cell_type": "code",
   "execution_count": 17,
   "metadata": {
    "collapsed": false
   },
   "outputs": [],
   "source": [
    "class Action(object):\n",
    "    pass\n",
    "\n",
    "\n",
    "class GuardedVelocity(Action):\n",
    "    def __init__(self, velocity):\n",
    "        self.velocity = velocity\n",
    "        #self.time_left = 1.0\n",
    "        #self.finished = False\n",
    "\n",
    "    def propogate_belief(self, belief, dt=0.1):\n",
    "        to_blend = []\n",
    "        for state in state_generator(state_space):\n",
    "            a = belief.prob(state)\n",
    "            b = self.propogate_state(state, dt)\n",
    "            to_blend.append( (a, b) )\n",
    "        \n",
    "        return Belief.blend(to_blend)\n",
    "\n",
    "    def propogate_state(self, state, dt=0.1):     \n",
    "        if isinstance(state.displacement, MetricStateFactor):\n",
    "            x = state_space.to_continuous(state)[0]\n",
    "            xprime = x + dt*self.velocity*state.direction.d\n",
    "            \n",
    "            if xprime >= 0:\n",
    "                affine_combo = state_space.interpolate((xprime, state.direction.d))\n",
    "                affine_combo = [(a,Belief(delta=b)) for (a,b) in affine_combo]\n",
    "                b = Belief.blend(affine_combo)\n",
    "            else:\n",
    "                # made contact\n",
    "                # TODO this would activate a guard, probably. and the termination condition would be set\n",
    "                b = Belief(delta=State(state.direction, ContactStateFactor()))\n",
    "\n",
    "        elif isinstance(state.displacement, ContactStateFactor):\n",
    "            contact_direction = -state.direction.d\n",
    "            if contact_direction * self.velocity >= 0:\n",
    "                #pushing into contact, so stay with same contact\n",
    "                b = Belief(delta=state)\n",
    "            else:\n",
    "                #moving away from contact. with probability alpha, stay in contact\n",
    "                alpha = 0.1\n",
    "                \n",
    "                xprime = 0.0 + dt*self.velocity*state.direction.d\n",
    "                affine_combo = state_space.interpolate((xprime, state.direction.d))\n",
    "                affine_combo = [(a,Belief(delta=b)) for (a,b) in affine_combo]\n",
    "                b_metric = Belief.blend(affine_combo)\n",
    "                b_contact = Belief(delta=state)\n",
    "                \n",
    "                b = Belief.blend([  (alpha, b_contact),\n",
    "                                    (1-alpha, b_metric)])\n",
    "\n",
    "        elif isinstance(state.displacement, VoidStateFactor):\n",
    "            void_direction = state.direction.d\n",
    "            if void_direction * self.velocity >= 0:\n",
    "                #going further into void, so stay in same void\n",
    "                b = Belief(delta=state)\n",
    "            else:\n",
    "                #moving toward metric. with probability alpha, stay in the void\n",
    "                alpha = 0.9\n",
    "                \n",
    "                void_fringe = state_space.extent * void_direction\n",
    "                xprime = void_fringe + dt*self.velocity*state.direction.d\n",
    "                affine_combo = state_space.interpolate((xprime, state.direction.d))\n",
    "                affine_combo = [(a,Belief(delta=b)) for (a,b) in affine_combo]\n",
    "                b_metric = Belief.blend(affine_combo)\n",
    "                b_void = Belief(delta=state)\n",
    "                \n",
    "                b = Belief.blend([  (alpha, b_void),\n",
    "                                    (1-alpha, b_metric)])\n",
    "\n",
    "        return b\n",
    "        \n",
    "        \n",
    "\n",
    "class Position(Action):\n",
    "    def __init__(self):\n",
    "        self.time_left = 1.0"
   ]
  },
  {
   "cell_type": "code",
   "execution_count": 18,
   "metadata": {
    "collapsed": false
   },
   "outputs": [],
   "source": [
    "action = GuardedVelocity(1.0)"
   ]
  },
  {
   "cell_type": "code",
   "execution_count": 19,
   "metadata": {
    "collapsed": false
   },
   "outputs": [
    {
     "data": {
      "text/plain": [
       "<__main__.Belief at 0x108f2da90>"
      ]
     },
     "execution_count": 19,
     "metadata": {},
     "output_type": "execute_result"
    }
   ],
   "source": [
    "ss = list(state_generator(state_space))\n",
    "\n",
    "Belief.blend([ (1.0, Belief(delta=ss[0])), ])"
   ]
  },
  {
   "cell_type": "code",
   "execution_count": 20,
   "metadata": {
    "collapsed": false
   },
   "outputs": [
    {
     "data": {
      "text/plain": [
       "[(1.0, State: -Void)]"
      ]
     },
     "execution_count": 20,
     "metadata": {},
     "output_type": "execute_result"
    }
   ],
   "source": [
    "state_space.interpolate((5.5, -1.0))"
   ]
  },
  {
   "cell_type": "code",
   "execution_count": 21,
   "metadata": {
    "collapsed": false
   },
   "outputs": [
    {
     "data": {
      "image/png": "[encoded data removed]",
      "text/plain": [
       "<matplotlib.figure.Figure at 0x108b07c10>"
      ]
     },
     "metadata": {},
     "output_type": "display_data"
    }
   ],
   "source": [
    "b = action.propogate_state(state_space.nearest((1.0,1)), dt=0.15)\n",
    "ax = setup_belief_plot()\n",
    "b.plot(ax);"
   ]
  },
  {
   "cell_type": "code",
   "execution_count": 22,
   "metadata": {
    "collapsed": false
   },
   "outputs": [
    {
     "data": {
      "text/plain": [
       "1.1499999999999999"
      ]
     },
     "execution_count": 22,
     "metadata": {},
     "output_type": "execute_result"
    }
   ],
   "source": [
    "b.metric_mean()"
   ]
  },
  {
   "cell_type": "code",
   "execution_count": 23,
   "metadata": {
    "collapsed": false
   },
   "outputs": [
    {
     "data": {
      "text/plain": [
       "(0.0049000000000000016, 1.71)"
      ]
     },
     "execution_count": 23,
     "metadata": {},
     "output_type": "execute_result"
    },
    {
     "data": {
      "image/png": "[encoded data removed]",
      "text/plain": [
       "<matplotlib.figure.Figure at 0x108f2d190>"
      ]
     },
     "metadata": {},
     "output_type": "display_data"
    }
   ],
   "source": [
    "action = GuardedVelocity(1.0)\n",
    "b = action.propogate_belief(b, dt=0.56)\n",
    "ax = setup_belief_plot()\n",
    "b.plot(ax);\n",
    "b.metric_variance(), b.metric_mean()"
   ]
  },
  {
   "cell_type": "code",
   "execution_count": null,
   "metadata": {
    "collapsed": false
   },
   "outputs": [],
   "source": []
  },
  {
   "cell_type": "code",
   "execution_count": null,
   "metadata": {
    "collapsed": false
   },
   "outputs": [],
   "source": []
  },
  {
   "cell_type": "code",
   "execution_count": null,
   "metadata": {
    "collapsed": false
   },
   "outputs": [],
   "source": []
  },
  {
   "cell_type": "code",
   "execution_count": null,
   "metadata": {
    "collapsed": false
   },
   "outputs": [],
   "source": []
  },
  {
   "cell_type": "code",
   "execution_count": null,
   "metadata": {
    "collapsed": false
   },
   "outputs": [],
   "source": []
  },
  {
   "cell_type": "code",
   "execution_count": null,
   "metadata": {
    "collapsed": false
   },
   "outputs": [],
   "source": []
  },
  {
   "cell_type": "code",
   "execution_count": null,
   "metadata": {
    "collapsed": false
   },
   "outputs": [],
   "source": []
  },
  {
   "cell_type": "code",
   "execution_count": null,
   "metadata": {
    "collapsed": false
   },
   "outputs": [],
   "source": []
  },
  {
   "cell_type": "code",
   "execution_count": null,
   "metadata": {
    "collapsed": false
   },
   "outputs": [],
   "source": []
  },
  {
   "cell_type": "code",
   "execution_count": null,
   "metadata": {
    "collapsed": false
   },
   "outputs": [],
   "source": []
  },
  {
   "cell_type": "code",
   "execution_count": null,
   "metadata": {
    "collapsed": true
   },
   "outputs": [],
   "source": []
  }
 ],
 "metadata": {
  "kernelspec": {
   "display_name": "Python 2",
   "language": "python",
   "name": "python2"
  },
  "language_info": {
   "codemirror_mode": {
    "name": "ipython",
    "version": 2
   },
   "file_extension": ".py",
   "mimetype": "text/x-python",
   "name": "python",
   "nbconvert_exporter": "python",
   "pygments_lexer": "ipython2",
   "version": "2.7.10"
  }
 },
 "nbformat": 4,
 "nbformat_minor": 0
}
