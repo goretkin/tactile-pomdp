{
 "cells": [
  {
   "cell_type": "code",
   "execution_count": 1,
   "metadata": {
    "collapsed": true
   },
   "outputs": [],
   "source": [
    "import numpy as np\n",
    "import matplotlib.pyplot as plt\n",
    "%matplotlib inline"
   ]
  },
  {
   "cell_type": "code",
   "execution_count": 2,
   "metadata": {
    "collapsed": true
   },
   "outputs": [],
   "source": [
    "#the jig is a half-line. It extends infinitely in one direction\n",
    "#the state includes the displacement (signed distance) from the object to the jig\n",
    "\n",
    "#   |---> (positive displacement)\n",
    "#   o   jjjjjj...\n",
    "# -------->  (coordinate frame attached to object)\n",
    "\n",
    "# in 1D, you can't rotate the object, so the object frame positive x axis always points to the left\n",
    "# whether you're plotting in world frame or object frame\n",
    "#       <---| (negative displacement)\n",
    "# ..jjjj   o\n",
    "#  --------> (coordinate frame attached to object)\n",
    "\n",
    "# HOWEVER, if we attach a coordinate frame to the jig, such 0 is the boundary, \n",
    "# and the negative direction is occupied by jig, then in this coordinate frame, \n",
    "# the displacment to the object is always positive\n",
    "# BUT now we need to encode whether the object frame points left or right,\n",
    "# since that's the frame you can specify the actions in.\n",
    "# (I think this is actually less obvious in 1D than in higher dimensions)\n"
   ]
  },
  {
   "cell_type": "code",
   "execution_count": null,
   "metadata": {
    "collapsed": false
   },
   "outputs": [],
   "source": []
  },
  {
   "cell_type": "code",
   "execution_count": 3,
   "metadata": {
    "collapsed": false
   },
   "outputs": [],
   "source": [
    "class State(object):\n",
    "    pass\n",
    "\n",
    "class MetricState(State):\n",
    "    def __init__(self, x):\n",
    "        self.x = x\n",
    "    def __repr__(self):\n",
    "        return \"MetricState: %s\"%(self.x)\n",
    "\n",
    "class LeftVoidState(State):\n",
    "    def __init__(self):\n",
    "        pass\n",
    "    def __repr__(self):\n",
    "        return \"LeftVoidState\"\n",
    "\n",
    "class RightVoidState(State):\n",
    "    def __init__(self):\n",
    "        pass\n",
    "    def __repr__(self):\n",
    "        return \"RightVoidState\"\n",
    "\n",
    "class ContactPosState(State):\n",
    "    def __init__(self):\n",
    "        pass\n",
    "    def __repr__(self):\n",
    "        return \"ContactNegState\"\n",
    "\n",
    "class ContactNegState(State):\n",
    "    def __init__(self):\n",
    "        pass\n",
    "    def __repr__(self):\n",
    "        return \"ContactPosState\"\n",
    "    \n",
    "class StateSpace(object):\n",
    "    def __init__(self, extent=5.0, n_resolution=101):\n",
    "        self.extent = extent\n",
    "        self.n_resolution = n_resolution\n",
    "        self.discretization_free = np.linspace(-self.extent, self.extent, self.n_resolution)\n",
    "    \n",
    "        self.others = [LeftVoidState, RightVoidState, ContactPosState, ContactNegState]\n",
    "        self.n_states = len(self.discretization_free) + len(self.others)\n",
    "            \n",
    "    def to_continuous(self, metric_state):\n",
    "        assert isinstance(metric_state, MetricState)\n",
    "        return self.discretization_free[metric_state.x]\n",
    "\n",
    "    def nearest(self, x):\n",
    "        if x >= self.extent:\n",
    "            return RightVoidState()\n",
    "        elif x <= -self.extent:\n",
    "            return LeftVoidState()\n",
    "        else:\n",
    "            i = np.searchsorted(self.discretization_free, x)\n",
    "            if i == 0:\n",
    "                return MetricState(0)\n",
    "            else:\n",
    "                if abs(self.discretization_free[i-1]-x) < abs(self.discretization_free[i]-x):\n",
    "                    return MetricState(i-1)\n",
    "                else:\n",
    "                    return MetricState(i)\n",
    "\n",
    "    def interpolate(self, x):\n",
    "        # return affine combination of states\n",
    "        # interpolating x when x is outside the extent puts all of the mass in the void.\n",
    "        if x >= self.extent:\n",
    "            return [(1.0, RightVoidState())]\n",
    "        elif x <= -self.extent:\n",
    "            return [(1.0, LeftVoidState())]\n",
    "        else:\n",
    "            i = np.searchsorted(self.discretization_free, x)\n",
    "            if i == 0:\n",
    "                raise AssertionError(\"previous checks should have caught: %s\"%(x))\n",
    "            else:\n",
    "                a = x - self.discretization_free[i-1]\n",
    "                b = self.discretization_free[i] - x\n",
    "                if a<0 or b<0:\n",
    "                    raise AssertionError(\"negative distance: %s\"%((a,b)))\n",
    "                \n",
    "                return [ (b/(a+b), MetricState(i-1)),\n",
    "                         (a/(a+b), MetricState(i)) ]\n",
    "\n",
    "       \n",
    "class state_iterator:\n",
    "    def __init__(self, state_space):\n",
    "        self.state_space = state_space\n",
    "\n",
    "    def __iter__(self):\n",
    "        return zrange_iter(self.state_space)\n",
    "\n",
    "class zrange_iter:\n",
    "    def __init__(self, state_space):\n",
    "        self.i = 0\n",
    "        self.state_space = state_space\n",
    "\n",
    "    def __iter__(self):\n",
    "        # Iterators are iterables too.\n",
    "        # Adding this functions to make them so.\n",
    "        return self\n",
    "\n",
    "    def next(self):\n",
    "        if self.i < len(self.state_space.others):\n",
    "            i = self.i\n",
    "            self.i += 1\n",
    "            return (self.state_space.others[i])()\n",
    "        elif self.i < self.state_space.n_states:\n",
    "            ii = self.i - len(self.state_space.others)\n",
    "            self.i += 1\n",
    "            return MetricState(ii)\n",
    "            \n",
    "        else:\n",
    "            raise StopIteration()"
   ]
  },
  {
   "cell_type": "code",
   "execution_count": null,
   "metadata": {
    "collapsed": false
   },
   "outputs": [],
   "source": []
  },
  {
   "cell_type": "code",
   "execution_count": 4,
   "metadata": {
    "collapsed": false
   },
   "outputs": [
    {
     "data": {
      "text/plain": [
       "2.1000000000000005"
      ]
     },
     "execution_count": 4,
     "metadata": {},
     "output_type": "execute_result"
    }
   ],
   "source": [
    "state_space = StateSpace()\n",
    "state_space.to_continuous(state_space.nearest(2.14))"
   ]
  },
  {
   "cell_type": "code",
   "execution_count": 5,
   "metadata": {
    "collapsed": false
   },
   "outputs": [
    {
     "data": {
      "text/plain": [
       "RightVoidState"
      ]
     },
     "execution_count": 5,
     "metadata": {},
     "output_type": "execute_result"
    }
   ],
   "source": [
    "state_space.nearest(5.1)"
   ]
  },
  {
   "cell_type": "code",
   "execution_count": 6,
   "metadata": {
    "collapsed": false
   },
   "outputs": [
    {
     "data": {
      "text/plain": [
       "[(0.0, MetricState: 74), (1.0, MetricState: 75)]"
      ]
     },
     "execution_count": 6,
     "metadata": {},
     "output_type": "execute_result"
    }
   ],
   "source": [
    "state_space.interpolate(2.5)"
   ]
  },
  {
   "cell_type": "code",
   "execution_count": 7,
   "metadata": {
    "collapsed": false
   },
   "outputs": [
    {
     "data": {
      "text/plain": [
       "[LeftVoidState,\n",
       " RightVoidState,\n",
       " ContactNegState,\n",
       " ContactPosState,\n",
       " MetricState: 0,\n",
       " MetricState: 1]"
      ]
     },
     "execution_count": 7,
     "metadata": {},
     "output_type": "execute_result"
    }
   ],
   "source": [
    "list(state_iterator(state_space))[0:6]"
   ]
  },
  {
   "cell_type": "code",
   "execution_count": 8,
   "metadata": {
    "collapsed": false
   },
   "outputs": [],
   "source": [
    "class Belief(object):\n",
    "    def __init__(self, state_space=state_space, delta=None):\n",
    "        self.state_space = state_space\n",
    "        self.free_p = np.zeros_like(self.state_space.discretization_free)\n",
    "        # contact_pos is the contact you get from moving from left to right\n",
    "        self.contact_pos_p = 0.0\n",
    "        self.contact_neg_p = 0.0\n",
    "        self.right_void_p = 0.0\n",
    "        self.left_void_p = 0.0\n",
    "        \n",
    "        \n",
    "        if delta is not None:\n",
    "            if isinstance(delta, MetricState):\n",
    "                self.free_p[delta.x] = 1.0\n",
    "            elif isinstance(delta, LeftVoidState):\n",
    "                self.left_void_p = 1.0\n",
    "            elif isinstance(delta, RightVoidState):\n",
    "                self.right_void_p = 1.0\n",
    "            elif isinstance(delta, ContactPosState):\n",
    "                self.contact_pos_p = 1.0\n",
    "            elif isinstance(delta, ContactNegState):\n",
    "                self.contact_neg_p = 1.0\n",
    "            else:\n",
    "                raise ValueError(delta)\n",
    "    \n",
    "    def prob(self, state):\n",
    "            if isinstance(state, MetricState):\n",
    "                return self.free_p[state.x]\n",
    "            elif isinstance(state, LeftVoidState):\n",
    "                return self.left_void_p\n",
    "            elif isinstance(state, RightVoidState):\n",
    "                return self.right_void_p\n",
    "            elif isinstance(state, ContactPosState):\n",
    "                return self.contact_pos_p\n",
    "            elif isinstance(state, ContactNegState):\n",
    "                return self.contact_neg_p\n",
    "            else:\n",
    "                raise ValueError(state)\n",
    "    \n",
    "    @staticmethod\n",
    "    def blend(affine_combo):\n",
    "        coeffs = np.array([a for (a, b) in affine_combo])\n",
    "        \n",
    "        if not np.isclose(np.sum(coeffs), 1.0) or not np.all(coeffs>=0.0):\n",
    "            raise ValueError(\"invalid combination: %s\"%(coeffs))\n",
    "        \n",
    "        #assume each belief is normalized\n",
    "        blended = Belief()\n",
    "        \n",
    "        for (a,b) in affine_combo:\n",
    "            blended.free_p += a*b.free_p\n",
    "            blended.contact_pos_p += a*b.contact_pos_p\n",
    "            blended.contact_neg_p += a*b.contact_neg_p\n",
    "            blended.right_void_p += a*b.right_void_p\n",
    "            blended.left_void_p += a*b.left_void_p\n",
    "        \n",
    "        if not np.isclose(blended.sum(), 1.0):\n",
    "            raise AssertionError(\"sum should have come out to 1.0: %s\"%(blended.sum()))\n",
    "        \n",
    "        return blended\n",
    "            \n",
    "    def something(self):\n",
    "        self.free_p = 1.0 * np.ones_like(self.state_space.discretization_free)\n",
    "        self.free_p *= np.random.rand(len(self.state_space.discretization_free))\n",
    "        \n",
    "        self.contact_pos_p = 1.0\n",
    "        self.contact_neg_p = 1.0\n",
    "        self.right_void_p = 0.1\n",
    "        self.left_void_p = 0.1\n",
    "    \n",
    "        self.normalize()\n",
    "\n",
    "    def sum(self):\n",
    "        return self.contact_pos_p + self.contact_neg_p + self.right_void_p + self.left_void_p + self.free_p.sum()\n",
    "    \n",
    "    def normalize(self):\n",
    "        eta = 1.0/(self.sum())\n",
    "        self.contact_pos_p *= eta\n",
    "        self.contact_neg_p *= eta\n",
    "        self.free_p *= eta\n",
    "        self.right_void_p *= eta\n",
    "        self.left_void_p *= eta\n",
    "\n",
    "\n",
    "    def plot(self, ax, frame=\"object\", p_metric_kwargs=dict(color='grey',linestyle=\"\")):\n",
    "        belief = self\n",
    "    \n",
    "        artists=[]\n",
    "\n",
    "        def plot_single_stem(ax, x, y, \n",
    "                             marker_kwargs=dict(markersize=5.0, alpha=1.0, color='darkblue'), \n",
    "                             stemline_kwargs=dict(linewidth=4.0, alpha=0.5, color='dimgrey')):\n",
    "            a = [] #store artists\n",
    "            a.extend(\n",
    "                ax.plot([x, x], [0.0, y], **stemline_kwargs))\n",
    "            \n",
    "       \n",
    "            a.extend(\n",
    "                ax.plot([x], [y], marker='s', **marker_kwargs))\n",
    "            return a\n",
    "        \n",
    "        # contact_pos is the contact you get from moving from left to right\n",
    "        artists.extend(plot_single_stem(ax, -0.05, belief.contact_pos_p))\n",
    "        artists.extend(plot_single_stem(ax, 0.05, belief.contact_neg_p))\n",
    "        artists.extend(plot_single_stem(ax, -belief.state_space.extent, belief.left_void_p))\n",
    "        artists.extend(plot_single_stem(ax, belief.state_space.extent, belief.right_void_p))\n",
    "        \n",
    "        a = ax.plot(belief.state_space.discretization_free, belief.free_p, marker=\".\", **p_metric_kwargs)\n",
    "        artists.extend(a)\n",
    "\n",
    "        return artists\n",
    "\n",
    "    def metric_mean(self):\n",
    "        s = self.free_p.sum()\n",
    "        if s == 0:\n",
    "            raise ValueError(\"Metric manifold has zero probability\")\n",
    "        if s>1:\n",
    "            raise ValueError(\"Metric manifold had %s>1 probability\"%(s))\n",
    "        return np.dot(self.free_p/s, self.state_space.discretization_free)\n",
    "    \n",
    "    def metric_variance(self):\n",
    "        m = self.metric_mean()\n",
    "        s = self.free_p.sum()\n",
    "        return np.dot(self.free_p/s, (self.state_space.discretization_free-m)**2)"
   ]
  },
  {
   "cell_type": "code",
   "execution_count": 9,
   "metadata": {
    "collapsed": false
   },
   "outputs": [
    {
     "data": {
      "image/png": "[encoded data removed]",
      "text/plain": [
       "<matplotlib.figure.Figure at 0x108105a90>"
      ]
     },
     "metadata": {},
     "output_type": "display_data"
    }
   ],
   "source": [
    "def setup_belief_plot(ax=None):\n",
    "    if ax is None:\n",
    "        ax = plt.gca()\n",
    "    \n",
    "    ax.axhline(0.0)\n",
    "    ax.set_ylabel(r\"$p$\")\n",
    "    return ax\n",
    "\n",
    "ax = setup_belief_plot()\n",
    "b = Belief()\n",
    "b.something()\n",
    "b.plot(ax);"
   ]
  },
  {
   "cell_type": "code",
   "execution_count": 10,
   "metadata": {
    "collapsed": true
   },
   "outputs": [],
   "source": [
    "def ideally_identity(x):\n",
    "    # interpolate a continuous point onto the metric part\n",
    "    # convert to a distribution over the metric states (a Belief)\n",
    "    # take the mean of the belief\n",
    "    affine_combo = state_space.interpolate(x)\n",
    "    affine_combo = [(a,Belief(delta=b)) for (a,b) in affine_combo]\n",
    "    return Belief.blend(affine_combo).metric_mean()"
   ]
  },
  {
   "cell_type": "code",
   "execution_count": 11,
   "metadata": {
    "collapsed": false
   },
   "outputs": [
    {
     "data": {
      "image/png": "[encoded data removed]",
      "text/plain": [
       "<matplotlib.figure.Figure at 0x103ea0dd0>"
      ]
     },
     "metadata": {},
     "output_type": "display_data"
    }
   ],
   "source": [
    "#a sort of unit test. the line should be straight with slope=1\n",
    "x = np.linspace(-4,4,10000)\n",
    "y = map(ideally_identity, x)\n",
    "plt.plot(x,y)\n",
    "plt.gca().set_aspect(1.0)"
   ]
  },
  {
   "cell_type": "code",
   "execution_count": null,
   "metadata": {
    "collapsed": false
   },
   "outputs": [],
   "source": []
  },
  {
   "cell_type": "code",
   "execution_count": 12,
   "metadata": {
    "collapsed": false
   },
   "outputs": [],
   "source": [
    "class Action(object):\n",
    "    pass\n",
    "\n",
    "\n",
    "class GuardedVelocity(Action):\n",
    "    def __init__(self, velocity):\n",
    "        self.velocity = velocity\n",
    "        #self.time_left = 1.0\n",
    "        #self.finished = False\n",
    "\n",
    "    def propogate_belief(self, belief, dt=0.1):\n",
    "        to_blend = []\n",
    "        for state in state_iterator(state_space):\n",
    "            a = belief.prob(state)\n",
    "            b = self.propogate_state(state, dt)\n",
    "            to_blend.append( (a, b) )\n",
    "        \n",
    "        return Belief.blend(to_blend)\n",
    "\n",
    "    def propogate_state(self, state, dt=0.1):     \n",
    "        if isinstance(state, MetricState):\n",
    "            x = state_space.to_continuous(state)\n",
    "            xprime = x + dt*self.velocity\n",
    "            \n",
    "            if x*xprime >= 0:\n",
    "                affine_combo = state_space.interpolate(xprime)\n",
    "                affine_combo = [(a,Belief(delta=b)) for (a,b) in affine_combo]\n",
    "                b = Belief.blend(affine_combo)\n",
    "            else:\n",
    "                # made contact\n",
    "                # TODO this would activate a guard, probably. and the termination condition would be set\n",
    "                if x < 0:\n",
    "                    b = Belief(delta=ContactPosState())\n",
    "                elif x > 0:\n",
    "                    b = Belief(delta=ContactNegState())\n",
    "                else:\n",
    "                    raise AssertionError(\"just checked this\")\n",
    "\n",
    "        elif isinstance(state, ContactPosState) or isinstance(state, ContactNegState):\n",
    "            contact_direction = 1.0 if isinstance(state, ContactPosState) else -1.0\n",
    "            if contact_direction * self.velocity >= 0:\n",
    "                #pushing into contact, so stay with same contact\n",
    "                b = Belief(delta=state)\n",
    "            else:\n",
    "                #moving away from contact. with probability alpha, stay in contact\n",
    "                alpha = 0.1\n",
    "                \n",
    "                xprime = 0.0 + dt*self.velocity\n",
    "                affine_combo = state_space.interpolate(xprime)\n",
    "                affine_combo = [(a,Belief(delta=b)) for (a,b) in affine_combo]\n",
    "                b_metric = Belief.blend(affine_combo)\n",
    "                b_contact = Belief(delta=state)\n",
    "                \n",
    "                b = Belief.blend([  (alpha, b_contact),\n",
    "                                    (1-alpha, b_metric)])\n",
    "\n",
    "        elif isinstance(state, RightVoidState) or isinstance(state, LeftVoidState):\n",
    "            void_direction = 1.0 if isinstance(state, RightVoidState) else -1.0\n",
    "            if void_direction * self.velocity >= 0:\n",
    "                #going further into void, so stay in same void\n",
    "                b = Belief(delta=state)\n",
    "            else:\n",
    "                #moving toward metric. with probability alpha, stay in the void\n",
    "                alpha = 0.9\n",
    "                \n",
    "                void_fringe = state_space.extent * void_direction\n",
    "                xprime = void_fringe + dt*self.velocity\n",
    "                affine_combo = state_space.interpolate(xprime)\n",
    "                affine_combo = [(a,Belief(delta=b)) for (a,b) in affine_combo]\n",
    "                b_metric = Belief.blend(affine_combo)\n",
    "                b_void = Belief(delta=state)\n",
    "                \n",
    "                b = Belief.blend([  (alpha, b_void),\n",
    "                                    (1-alpha, b_metric)])\n",
    "\n",
    "        return b\n",
    "        \n",
    "        \n",
    "\n",
    "class Position(Action):\n",
    "    def __init__(self):\n",
    "        self.time_left = 1.0"
   ]
  },
  {
   "cell_type": "code",
   "execution_count": 13,
   "metadata": {
    "collapsed": false
   },
   "outputs": [],
   "source": [
    "action = GuardedVelocity(1.0)"
   ]
  },
  {
   "cell_type": "code",
   "execution_count": 14,
   "metadata": {
    "collapsed": false
   },
   "outputs": [
    {
     "data": {
      "image/png": "[encoded data removed]",
      "text/plain": [
       "<matplotlib.figure.Figure at 0x10800a1d0>"
      ]
     },
     "metadata": {},
     "output_type": "display_data"
    }
   ],
   "source": [
    "b = action.propogate_state(state_space.nearest(1.0), dt=0.15)\n",
    "ax = setup_belief_plot()\n",
    "b.plot(ax);"
   ]
  },
  {
   "cell_type": "code",
   "execution_count": 15,
   "metadata": {
    "collapsed": false
   },
   "outputs": [
    {
     "data": {
      "text/plain": [
       "1.1499999999999999"
      ]
     },
     "execution_count": 15,
     "metadata": {},
     "output_type": "execute_result"
    }
   ],
   "source": [
    "b.metric_mean()"
   ]
  },
  {
   "cell_type": "code",
   "execution_count": 16,
   "metadata": {
    "collapsed": false
   },
   "outputs": [
    {
     "data": {
      "text/plain": [
       "0.0049999999999999923"
      ]
     },
     "execution_count": 16,
     "metadata": {},
     "output_type": "execute_result"
    },
    {
     "data": {
      "image/png": "[encoded data removed]",
      "text/plain": [
       "<matplotlib.figure.Figure at 0x10800d150>"
      ]
     },
     "metadata": {},
     "output_type": "display_data"
    }
   ],
   "source": [
    "action = GuardedVelocity(-1.0)\n",
    "b = action.propogate_belief(b, dt=0.15)\n",
    "ax = setup_belief_plot()\n",
    "b.plot(ax);\n",
    "b.metric_variance()"
   ]
  },
  {
   "cell_type": "code",
   "execution_count": null,
   "metadata": {
    "collapsed": false
   },
   "outputs": [],
   "source": []
  },
  {
   "cell_type": "code",
   "execution_count": null,
   "metadata": {
    "collapsed": false
   },
   "outputs": [],
   "source": []
  },
  {
   "cell_type": "code",
   "execution_count": null,
   "metadata": {
    "collapsed": false
   },
   "outputs": [],
   "source": []
  },
  {
   "cell_type": "code",
   "execution_count": null,
   "metadata": {
    "collapsed": false
   },
   "outputs": [],
   "source": []
  },
  {
   "cell_type": "code",
   "execution_count": null,
   "metadata": {
    "collapsed": false
   },
   "outputs": [],
   "source": []
  },
  {
   "cell_type": "code",
   "execution_count": null,
   "metadata": {
    "collapsed": false
   },
   "outputs": [],
   "source": []
  },
  {
   "cell_type": "code",
   "execution_count": null,
   "metadata": {
    "collapsed": false
   },
   "outputs": [],
   "source": []
  },
  {
   "cell_type": "code",
   "execution_count": null,
   "metadata": {
    "collapsed": true
   },
   "outputs": [],
   "source": []
  }
 ],
 "metadata": {
  "kernelspec": {
   "display_name": "Python 2",
   "language": "python",
   "name": "python2"
  },
  "language_info": {
   "codemirror_mode": {
    "name": "ipython",
    "version": 2
   },
   "file_extension": ".py",
   "mimetype": "text/x-python",
   "name": "python",
   "nbconvert_exporter": "python",
   "pygments_lexer": "ipython2",
   "version": "2.7.10"
  }
 },
 "nbformat": 4,
 "nbformat_minor": 0
}
